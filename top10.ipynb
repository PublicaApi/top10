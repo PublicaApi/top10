{
 "cells": [
  {
   "cell_type": "code",
   "execution_count": 1,
   "id": "f49c8245",
   "metadata": {},
   "outputs": [],
   "source": [
    "import requests\n",
    "import json\n",
    "import pandas as pd"
   ]
  },
  {
   "cell_type": "code",
   "execution_count": 2,
   "id": "affc094f",
   "metadata": {},
   "outputs": [
    {
     "name": "stdout",
     "output_type": "stream",
     "text": [
      "373\n"
     ]
    }
   ],
   "source": [
    "# Instituts-Kürzel\n",
    "acronym = \"ISI\"\n",
    "\n",
    "# Jahr von (min) bis (max). Für die Einschränkung auf ein Jahr, bitte den gleichen Wert für date_min und date_max einfügen\n",
    "#date = \"2021\"\n",
    "date_min = \"2020\" \n",
    "date_max = \"2022\"\n",
    "\n",
    "\n",
    "url = \"https://publica-rest.fraunhofer.de/server/api/discover/search/objects?query=institute:(\"+acronym+\")%20AND%20(dc.relation.ispartof:*)&configuration=researchoutputs&f.dateIssued=%5B\"+date_min+\"%20TO%20\"+date_max+\"%5D,equals\"\n",
    "\n",
    "r = requests.request(\"GET\", url)\n",
    "data = r.text\n",
    "data = json.loads(data)\n",
    "#print(data)\n",
    "anzahl = data[\"_embedded\"][\"searchResult\"][\"page\"][\"totalElements\"]\n",
    "anzahl = int(anzahl)\n",
    "print(anzahl)\n",
    "pages = data[\"_embedded\"][\"searchResult\"][\"page\"][\"totalPages\"]\n",
    "pages = int(pages)\n",
    "#print(pages)\n",
    "object = data[\"_embedded\"][\"searchResult\"][\"_embedded\"][\"objects\"]\n",
    "\n",
    "pub_uuid = []\n",
    "pub_name = []\n",
    "pub_href = []\n",
    "pub_journal = []\n",
    "pub_journalAuth = []\n",
    "\n",
    "object = data[\"_embedded\"][\"searchResult\"][\"_embedded\"][\"objects\"]\n",
    "\n",
    "for j in range(len(object)):\n",
    "    pub_uuid.append(data[\"_embedded\"][\"searchResult\"][\"_embedded\"][\"objects\"][j][\"_embedded\"][\"indexableObject\"][\"uuid\"])\n",
    "    pub_name.append(data[\"_embedded\"][\"searchResult\"][\"_embedded\"][\"objects\"][j][\"_embedded\"][\"indexableObject\"][\"name\"])\n",
    "    pub_href.append(data[\"_embedded\"][\"searchResult\"][\"_embedded\"][\"objects\"][j][\"_links\"][\"indexableObject\"][\"href\"])\n",
    "    pub_journal.append(data[\"_embedded\"][\"searchResult\"][\"_embedded\"][\"objects\"][j][\"_embedded\"][\"indexableObject\"][\"metadata\"][\"dc.relation.ispartof\"][0][\"value\"])\n",
    "    pub_journalAuth.append(data[\"_embedded\"][\"searchResult\"][\"_embedded\"][\"objects\"][j][\"_embedded\"][\"indexableObject\"][\"metadata\"][\"dc.relation.ispartof\"][0][\"authority\"])\n",
    "\n",
    "    \n",
    "if pages > 1:\n",
    "    for l in range(pages-1):\n",
    "        url = data[\"_embedded\"][\"searchResult\"][\"_links\"][\"next\"][\"href\"]\n",
    "        r = requests.request(\"GET\", url)\n",
    "        #print(l)\n",
    "        data = r.text\n",
    "        data = json.loads(data)\n",
    "        object = data[\"_embedded\"][\"searchResult\"][\"_embedded\"][\"objects\"]\n",
    "        for j in range(len(object)):\n",
    "            pub_uuid.append(data[\"_embedded\"][\"searchResult\"][\"_embedded\"][\"objects\"][j][\"_embedded\"][\"indexableObject\"][\"uuid\"])\n",
    "            pub_name.append(data[\"_embedded\"][\"searchResult\"][\"_embedded\"][\"objects\"][j][\"_embedded\"][\"indexableObject\"][\"name\"])\n",
    "            pub_href.append(data[\"_embedded\"][\"searchResult\"][\"_embedded\"][\"objects\"][j][\"_links\"][\"indexableObject\"][\"href\"])\n",
    "            pub_journal.append(data[\"_embedded\"][\"searchResult\"][\"_embedded\"][\"objects\"][j][\"_embedded\"][\"indexableObject\"][\"metadata\"][\"dc.relation.ispartof\"][0][\"value\"])\n",
    "            pub_journalAuth.append(data[\"_embedded\"][\"searchResult\"][\"_embedded\"][\"objects\"][j][\"_embedded\"][\"indexableObject\"][\"metadata\"][\"dc.relation.ispartof\"][0][\"authority\"])\n",
    "           \n"
   ]
  },
  {
   "cell_type": "code",
   "execution_count": 3,
   "id": "947d4888",
   "metadata": {},
   "outputs": [
    {
     "name": "stdout",
     "output_type": "stream",
     "text": [
      "Technological forecasting and social change                  16\n",
      "Energy policy                                                15\n",
      "Environmental innovation and societal transitions            14\n",
      "Energy research & social science                             10\n",
      "Scientometrics                                                9\n",
      "                                                             ..\n",
      "DIW weekly report                                             1\n",
      "Political psychology                                          1\n",
      "South African journal of economic and management sciences     1\n",
      "Energy and AI                                                 1\n",
      "IEEE transactions on computational social systems             1\n",
      "Name: journal, Length: 194, dtype: int64\n"
     ]
    }
   ],
   "source": [
    "df = pd.DataFrame({'uuid':pub_uuid})\n",
    "df['name'] = pub_name\n",
    "df['href'] = pub_href\n",
    "df['journal'] = pub_journal\n",
    "df['journalAuth'] = pub_journalAuth\n",
    "\n",
    "#print(df)\n",
    "\n",
    "value_counts = df['journal'].value_counts(dropna=True, sort=True)\n",
    "print(value_counts)"
   ]
  },
  {
   "cell_type": "code",
   "execution_count": null,
   "id": "f8897fb0",
   "metadata": {},
   "outputs": [],
   "source": []
  }
 ],
 "metadata": {
  "kernelspec": {
   "display_name": "Python 3",
   "language": "python",
   "name": "python3"
  },
  "language_info": {
   "codemirror_mode": {
    "name": "ipython",
    "version": 3
   },
   "file_extension": ".py",
   "mimetype": "text/x-python",
   "name": "python",
   "nbconvert_exporter": "python",
   "pygments_lexer": "ipython3",
   "version": "3.6.9"
  }
 },
 "nbformat": 4,
 "nbformat_minor": 5
}
